{
 "cells": [
  {
   "attachments": {},
   "cell_type": "markdown",
   "id": "637c2589",
   "metadata": {
    "nbsphinx": {
     "execute": "never"
    }
   },
   "source": [
    "# Quantinuum Nexus Quick Start\n"
   ]
  },
  {
   "cell_type": "markdown",
   "id": "14948c92",
   "metadata": {},
   "source": [
    "\n",
    "\n",
    "\n",
    "<div class=\"alert alert-block alert-info\"><b>NB:</b> If you will be using Quantinuum Nexus for this hackathon, please follow the 'Quantinuum Nexus Instructions' in the README.md before following along with this notebook.</div>"
   ]
  },
  {
   "cell_type": "markdown",
   "id": "b33d0004",
   "metadata": {},
   "source": [
    "## Welcome to the Quantinuum Nexus Lab! A hosted Jupyter environment with the pre-installed Python software packages you'll need, including:\n",
    "\n",
    "* `pytket`: Quantinuum's Python SDK for TKET quantum programming tools.\n",
    "* `qnexus`: the client software for submitting jobs to the Quantinuum Nexus platform\n",
    "\n",
    "### Step 1. Enable access to the Quantinuum simulator and emulator\n",
    "\n",
    "We provide a number of systems for you to target when executing quantum circuits as part of the challenge.\n",
    "\n",
    "* `H1-1LE`: a noiseless simulator of Quantinuum's 20 qubit `H1-1` quantum computer.\n",
    "* `H1-Emulator` and `H2-Emulator`: simulators with full error models for emulating Quantinuum Systems quantum hardware.\n",
    "\n",
    "\n",
    "### Step 2: Try out the example code below to compile and simulate your first circuit.\n",
    "\n",
    "- Copy this file or its contents into the Quantinuum Nexus Lab environment and run the code below to see some example usage.\n"
   ]
  },
  {
   "cell_type": "markdown",
   "id": "8568469f",
   "metadata": {},
   "source": [
    "## Lets compose a quantum circuit using Pytket\n",
    "\n",
    "Nexus uses [pytket Circuits](https://cqcl.github.io/pytket/manual/manual_circuit.html). Here we'll create a simple one."
   ]
  },
  {
   "cell_type": "code",
   "execution_count": null,
   "id": "fa8e85be",
   "metadata": {},
   "outputs": [],
   "source": [
    "from pytket import Circuit\n",
    "from pytket.circuit.display import render_circuit_jupyter\n",
    "\n",
    "my_circuit = Circuit(2,2).H(0).CX(0, 1).measure_all()\n",
    "\n",
    "render_circuit_jupyter(my_circuit)"
   ]
  },
  {
   "cell_type": "markdown",
   "id": "d5c75fa3",
   "metadata": {},
   "source": [
    "## Set up `qnexus`\n",
    "\n",
    "The qnexus package allows you to interact with the Quantinuum Nexus cloud."
   ]
  },
  {
   "cell_type": "code",
   "execution_count": null,
   "id": "815773d9",
   "metadata": {},
   "outputs": [],
   "source": [
    "import qnexus as qnx\n",
    "\n",
    "# Then we'll create a project that will be used to contain our jobs and data\n",
    "\n",
    "my_project_ref = qnx.projects.get_or_create(name=\"My First Nexus Project\")"
   ]
  },
  {
   "cell_type": "markdown",
   "id": "f8e81f3e",
   "metadata": {},
   "source": [
    "You should be able to see this project if you visit [https://nexus.quantinuum.com/projects](https://nexus.quantinuum.com/projects)\n",
    "\n",
    "\n",
    "We can now upload our circuit to Nexus."
   ]
  },
  {
   "cell_type": "code",
   "execution_count": null,
   "id": "34392fb8",
   "metadata": {},
   "outputs": [],
   "source": [
    "my_circuit_ref = qnx.circuits.upload(\n",
    "    circuit=my_circuit,\n",
    "    project=my_project_ref,\n",
    "    name=\"My Bell State Circuit\",\n",
    "    description=\"This is my first circuit uploaded to Nexus\",\n",
    ")"
   ]
  },
  {
   "attachments": {},
   "cell_type": "markdown",
   "id": "15a83542",
   "metadata": {},
   "source": [
    "### Set up your Backend Configuration\n",
    "\n",
    "In Quantinuum Nexus, we use `BackendConfig`s to specify the details of the quantum system we want to target.\n",
    "\n",
    "\n",
    "For this example, we'll use ``QuantinuumConfig``, to configure Nexus to target a simulator for Quantinuum's `H1-Emulator` device. \n"
   ]
  },
  {
   "cell_type": "code",
   "execution_count": null,
   "id": "abc8440f",
   "metadata": {},
   "outputs": [],
   "source": [
    "configuration = qnx.QuantinuumConfig(device_name=\"H1-Emulator\")"
   ]
  },
  {
   "cell_type": "markdown",
   "id": "7d6705bb",
   "metadata": {},
   "source": [
    "### Compile the circuit\n",
    "\n",
    "Nexus offers compilation with a cloud-hosted version of the TKET quantum compiler, this is an easy way to:\n",
    "\n",
    "* Optimize the circuit\n",
    "* Convert it to run on a specific quantum device, which might not support all quantum gates.\n",
    "\n",
    "If you'd like to disable any changes to your circuit other than making sure that the gateset is correct, you can always set `optimisation_level=0`."
   ]
  },
  {
   "cell_type": "code",
   "execution_count": null,
   "id": "2e954153",
   "metadata": {},
   "outputs": [],
   "source": [
    "ref_compile_job = qnx.start_compile_job(\n",
    "    circuits=[my_circuit_ref],\n",
    "    backend_config=configuration,\n",
    "    optimisation_level=2,\n",
    "    name=\"Bell State Compilation job\",\n",
    "    project=my_project_ref,\n",
    ")"
   ]
  },
  {
   "cell_type": "code",
   "execution_count": null,
   "id": "1a5d88e2",
   "metadata": {},
   "outputs": [],
   "source": [
    "qnx.jobs.wait_for(ref_compile_job)\n",
    "ref_compiled_circuit = qnx.jobs.results(ref_compile_job)[0].get_output()\n",
    "\n",
    "compiled_circuit = ref_compiled_circuit.download_circuit()\n",
    "\n",
    "render_circuit_jupyter(compiled_circuit)"
   ]
  },
  {
   "cell_type": "markdown",
   "id": "eedb2e5f",
   "metadata": {},
   "source": [
    "You should now see the `Compile Job` show up when you click on your project on [https://nexus.quantinuum.com](https://nexus.quantinuum.com).\n",
    "\n",
    "If you're curious to see what the compiler did, you can click on the job results and see all the passes the compiler performed on your circuit. "
   ]
  },
  {
   "cell_type": "markdown",
   "id": "5216cf39",
   "metadata": {},
   "source": [
    "### Submit the circuit for execution\n",
    "\n",
    "Nexus will take care of submitting the circuit to your chosen device and storing the results when it has executed.\n",
    "\n",
    "In this case we are executing the circuit on a simulator running in the Nexus cluster so we should get the results back quickly, however many quantum devices have lengthy queues in which case Nexus will track the job and retrieve the results when they are ready."
   ]
  },
  {
   "cell_type": "code",
   "execution_count": null,
   "id": "ed4f68e8",
   "metadata": {},
   "outputs": [],
   "source": [
    "ref_execute_job = qnx.start_execute_job(\n",
    "    circuits=[ref_compiled_circuit],\n",
    "    n_shots=[100],\n",
    "    backend_config=configuration,\n",
    "    name=\"Bell State Execution Job\",\n",
    "    project=my_project_ref,\n",
    ")"
   ]
  },
  {
   "cell_type": "code",
   "execution_count": null,
   "id": "a98a4a46",
   "metadata": {},
   "outputs": [],
   "source": [
    "qnx.jobs.wait_for(ref_execute_job)\n",
    "ref_result = qnx.jobs.results(ref_execute_job)[0]\n",
    "backend_result = ref_result.download_result()\n",
    "\n",
    "backend_result.get_distribution()"
   ]
  },
  {
   "cell_type": "markdown",
   "id": "ce945166",
   "metadata": {},
   "source": [
    "You can also view the job from the project page on the Quantinuum Nexus website and check out the results there.\n",
    "\n",
    "\n",
    "For a more detailed version of this notebook please check out [https://docs.quantinuum.com/nexus/trainings/notebooks/basics/getting_started.html](https://docs.quantinuum.com/nexus/trainings/notebooks/basics/getting_started.html)\n",
    "\n",
    "\n",
    "### Good luck with the challenge!"
   ]
  },
  {
   "cell_type": "code",
   "execution_count": null,
   "id": "58213010",
   "metadata": {},
   "outputs": [],
   "source": []
  }
 ],
 "metadata": {
  "kernelspec": {
   "display_name": "pytket-nexus-f6eBn_pg-py3.10",
   "language": "python",
   "name": "python3"
  },
  "language_info": {
   "codemirror_mode": {
    "name": "ipython",
    "version": 3
   },
   "file_extension": ".py",
   "mimetype": "text/x-python",
   "name": "python",
   "nbconvert_exporter": "python",
   "pygments_lexer": "ipython3",
   "version": "3.10.6"
  },
  "vscode": {
   "interpreter": {
    "hash": "f43baf218a87c34b36d0e78bf5bbda01518be954b242b9492c4c47b42fef4ee3"
   }
  },
  "widgets": {
   "application/vnd.jupyter.widget-state+json": {
    "state": {},
    "version_major": 2,
    "version_minor": 0
   }
  }
 },
 "nbformat": 4,
 "nbformat_minor": 5
}
